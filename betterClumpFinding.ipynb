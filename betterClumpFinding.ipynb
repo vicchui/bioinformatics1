{
 "cells": [
  {
   "cell_type": "markdown",
   "metadata": {},
   "source": [
    "BetterClumpFinding(Genome, k, t, L)\n",
    "        FrequentPatterns ← an empty set\n",
    "        for i ← 0 to 4k − 1\n",
    "            Clump(i) ← 0\n",
    "        Text ← Genome(0, L)\n",
    "        FrequencyArray ← ComputingFrequencies(Text, k)\n",
    "        for i ← 0 to 4k − 1\n",
    "            if FrequencyArray(i) ≥ t\n",
    "                Clump(i) ← 1\n",
    "        for i ← 1 to |Genome| − L\n",
    "            FirstPattern ← Genome(i − 1, k)\n",
    "            index ← PatternToNumber(FirstPattern)\n",
    "            FrequencyArray(index) ← FrequencyArray(index) − 1\n",
    "            LastPattern ← Genome(i + L − k, k)\n",
    "            index ← PatternToNumber(LastPattern)\n",
    "            FrequencyArray(index) ← FrequencyArray(index) + 1\n",
    "            if FrequencyArray(index) ≥ t\n",
    "                Clump(index) ← 1\n",
    "        for i ← 0 to 4k − 1\n",
    "            if Clump(i) = 1\n",
    "                Pattern ← NumberToPattern(i, k)\n",
    "                add Pattern to the set FrequentPatterns\n",
    "        return FrequentPatterns"
   ]
  },
  {
   "cell_type": "code",
   "execution_count": 72,
   "metadata": {},
   "outputs": [],
   "source": [
    "def patternToNumber(pattern):\n",
    "    num = 0\n",
    "    k = len(pattern) - 1\n",
    "    gene_dict = {\"A\":0, \"C\":1, \"G\":2, \"T\":3}\n",
    "    for i in pattern:\n",
    "        num += gene_dict[i] * pow(4, k)\n",
    "        k -= 1\n",
    "    return num"
   ]
  },
  {
   "cell_type": "code",
   "execution_count": 82,
   "metadata": {
    "tags": []
   },
   "outputs": [
    {
     "output_type": "stream",
     "name": "stdout",
     "text": "6\n"
    }
   ],
   "source": [
    "print(patternToNumber(\"CG\"))"
   ]
  },
  {
   "cell_type": "code",
   "execution_count": 98,
   "metadata": {},
   "outputs": [],
   "source": [
    "def numberToPattern(index, k):\n",
    "    gene_dict_reverse = {0:\"A\", 1:\"C\", 2:\"G\", 3:\"T\"}\n",
    "    p = \"\"\n",
    "    q = 0\n",
    "    k = k - 1\n",
    "    \n",
    "    while k >=0:\n",
    "        q = int(index/pow(4, k))\n",
    "        \n",
    "        p = p + gene_dict_reverse[q]\n",
    "        index = index - q * pow(4, k)\n",
    "        k = k - 1\n",
    "    return p"
   ]
  },
  {
   "cell_type": "code",
   "execution_count": 116,
   "metadata": {
    "tags": []
   },
   "outputs": [
    {
     "output_type": "stream",
     "name": "stdout",
     "text": "GTC\n"
    }
   ],
   "source": [
    "print(numberToPattern(45, 4))"
   ]
  },
  {
   "cell_type": "code",
   "execution_count": 87,
   "metadata": {},
   "outputs": [],
   "source": [
    "def computeFrequency(text, k):\n",
    "    indexDB = []\n",
    "    frequentArray = [0]*pow(4,k)\n",
    "    for i in range(0, len(text)-k+1):\n",
    "        pattern = text[i:i+k]\n",
    "        indexDB.append(patternToNumber(pattern))\n",
    "    #print(\"indexDB={}\".format(indexDB))\n",
    "    for i in indexDB:\n",
    "        frequentArray[i] += 1\n",
    "   \n",
    "    \n",
    "    \n",
    "    return frequentArray"
   ]
  },
  {
   "cell_type": "code",
   "execution_count": 89,
   "metadata": {
    "tags": []
   },
   "outputs": [
    {
     "output_type": "stream",
     "name": "stdout",
     "text": "[2, 1, 0, 0, 0, 0, 2, 2, 1, 2, 1, 0, 0, 1, 1, 0]\n"
    }
   ],
   "source": [
    "print(computeFrequency(\"ACGCGGCTCTGAAA\", 2))"
   ]
  },
  {
   "cell_type": "code",
   "execution_count": 88,
   "metadata": {
    "tags": []
   },
   "outputs": [
    {
     "output_type": "stream",
     "name": "stdout",
     "text": "{'AA'}\n"
    }
   ],
   "source": [
    "def betterClumpFinding(genome, k, L, t):\n",
    "# initialize\n",
    "    freqDB = [0]*pow(4, k)\n",
    "    clump = [0]*pow(4, k)\n",
    "    frequentPattern = set()\n",
    "    firstPattern = \"\"\n",
    "    \n",
    "    freqDB = computeFrequency(genome[0:L], k)\n",
    "\n",
    "    #print(\"freqDB={}\".format(freqDB))\n",
    "# create the clump array for frequency greater than t times\n",
    "    for i in range(0, pow(4, k)):\n",
    "        if freqDB[i] >= t:\n",
    "            clump[i] = 1\n",
    "            #print(\"Found {}\".format(i))\n",
    "# update frequencyDB\n",
    "    # sliding and looping\n",
    "    for i in range(1, len(genome)-L+1):\n",
    "        firstPattern = genome[i-1:i-1+k]\n",
    "        #print(\"i={} firstPattern[{}:{}]={}\".format(i, i-1, i-1+k, genome[i-1:i-1+k]))\n",
    "    # first Pattern decrease frequency by one\n",
    "        index = patternToNumber(firstPattern)\n",
    "        #print(\"i={} index = {} firstPattern[{}:{}]={}\".format(i, index, i-1, i-1+k, genome[i-1:i-1+k]))\n",
    "        freqDB[index] -= 1\n",
    "        if freqDB[index] >=t:\n",
    "            clump[index] = 1\n",
    "    # last Pattern increase frequency by one\n",
    "        lastPattern = genome[i+L-k: i+L]\n",
    "        index = patternToNumber(lastPattern)\n",
    "        freqDB[index] += 1\n",
    "    # update the clump array\n",
    "        if freqDB[index] >= t:\n",
    "            clump[index] = 1\n",
    "            #print(\"Found {}\".format(i))\n",
    "# iterate all pattern frequency greater than t times and add them into frequentPattern set\n",
    "    for i in range(0, pow(4,k)):\n",
    "        if clump[i] == 1:\n",
    "            frequentPattern.add(numberToPattern(i,k))\n",
    "            #print(\"clump {} == 1, add {} to frequentPattern\".format(i, numberToPattern(i,k)))\n",
    "\n",
    "    return frequentPattern\n",
    "\n",
    "\n",
    "genome=\"AAAACGTCGAAAAA\"\n",
    "k=2\n",
    "L=4\n",
    "t=2\n",
    "\n",
    "print(betterClumpFinding(genome, k, L, t))"
   ]
  },
  {
   "cell_type": "code",
   "execution_count": 4,
   "metadata": {},
   "outputs": [
    {
     "output_type": "error",
     "ename": "NameError",
     "evalue": "name 'readlines' is not defined",
     "traceback": [
      "\u001b[0;31m---------------------------------------------------------------------------\u001b[0m",
      "\u001b[0;31mNameError\u001b[0m                                 Traceback (most recent call last)",
      "\u001b[0;32m<ipython-input-4-2593e684ddc7>\u001b[0m in \u001b[0;36m<module>\u001b[0;34m\u001b[0m\n\u001b[1;32m      1\u001b[0m \u001b[0;32mimport\u001b[0m \u001b[0msys\u001b[0m\u001b[0;34m\u001b[0m\u001b[0;34m\u001b[0m\u001b[0m\n\u001b[1;32m      2\u001b[0m \u001b[0mfd\u001b[0m \u001b[0;34m=\u001b[0m \u001b[0mopen\u001b[0m\u001b[0;34m(\u001b[0m\u001b[0;34m\"./datasets/E_coli.txt\"\u001b[0m\u001b[0;34m)\u001b[0m\u001b[0;34m\u001b[0m\u001b[0;34m\u001b[0m\u001b[0m\n\u001b[0;32m----> 3\u001b[0;31m \u001b[0mdata\u001b[0m \u001b[0;34m=\u001b[0m \u001b[0mreadlines\u001b[0m\u001b[0;34m(\u001b[0m\u001b[0mfd\u001b[0m\u001b[0;34m)\u001b[0m\u001b[0;34m\u001b[0m\u001b[0;34m\u001b[0m\u001b[0m\n\u001b[0m\u001b[1;32m      4\u001b[0m \u001b[0mfd\u001b[0m\u001b[0;34m.\u001b[0m\u001b[0mclose\u001b[0m\u001b[0;34m(\u001b[0m\u001b[0;34m)\u001b[0m\u001b[0;34m\u001b[0m\u001b[0;34m\u001b[0m\u001b[0m\n\u001b[1;32m      5\u001b[0m \u001b[0mprint\u001b[0m\u001b[0;34m(\u001b[0m\u001b[0mdata\u001b[0m\u001b[0;34m)\u001b[0m\u001b[0;34m\u001b[0m\u001b[0;34m\u001b[0m\u001b[0m\n",
      "\u001b[0;31mNameError\u001b[0m: name 'readlines' is not defined"
     ]
    }
   ],
   "source": [
    "import sys\n",
    "fd = open(\"./datasets/E_coli.txt\")\n",
    "data = fd.readlines()\n",
    "fd.close()\n",
    "print(data)"
   ]
  },
  {
   "cell_type": "code",
   "execution_count": null,
   "metadata": {},
   "outputs": [],
   "source": []
  }
 ],
 "metadata": {
  "language_info": {
   "codemirror_mode": {
    "name": "ipython",
    "version": 3
   },
   "file_extension": ".py",
   "mimetype": "text/x-python",
   "name": "python",
   "nbconvert_exporter": "python",
   "pygments_lexer": "ipython3",
   "version": "3.7.3-final"
  },
  "orig_nbformat": 2,
  "kernelspec": {
   "name": "python37364bitvenvvenv12fd54c1030f4ada83d5760cefaa9b67",
   "display_name": "Python 3.7.3 64-bit ('venv': venv)"
  }
 },
 "nbformat": 4,
 "nbformat_minor": 2
}