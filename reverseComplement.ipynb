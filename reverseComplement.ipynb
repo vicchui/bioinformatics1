{
 "cells": [
  {
   "cell_type": "code",
   "execution_count": 10,
   "metadata": {
    "tags": []
   },
   "outputs": [
    {
     "output_type": "stream",
     "name": "stdout",
     "text": "['T']\n['T', 'T']\n['T', 'T', 'T']\n['T', 'T', 'T', 'T']\n['T', 'T', 'T', 'T', 'G']\n['T', 'T', 'T', 'T', 'G', 'G']\n['T', 'T', 'T', 'T', 'G', 'G', 'G']\n['T', 'T', 'T', 'T', 'G', 'G', 'G', 'C']\n['T', 'T', 'T', 'T', 'G', 'G', 'G', 'C', 'C']\n['T', 'T', 'T', 'T', 'G', 'G', 'G', 'C', 'C', 'A']\n['A', 'C', 'C', 'G', 'G', 'G', 'T', 'T', 'T', 'T']\nACCGGGTTTT\n"
    }
   ],
   "source": [
    "def reverseComplement(pattern):\n",
    "\n",
    "    temp = []\n",
    "    reverseComplementPattern=\"\"\n",
    "    gene_comp_dict = {\"A\":\"T\", \"C\":\"G\", \"G\":\"C\", \"T\":\"A\"}\n",
    "    for i in pattern:\n",
    "        temp.append(gene_comp_dict[i])\n",
    "        #print(temp)\n",
    "    temp.reverse()\n",
    "    #print(temp)\n",
    "    for i in temp:\n",
    "        reverseComplementPattern += i\n",
    "    return reverseComplementPattern\n",
    "p = \"AAAACCCGGT\"\n",
    "result = reverseComplement(p)\n",
    "print(result)"
   ]
  }
 ],
 "metadata": {
  "language_info": {
   "codemirror_mode": {
    "name": "ipython",
    "version": 3
   },
   "file_extension": ".py",
   "mimetype": "text/x-python",
   "name": "python",
   "nbconvert_exporter": "python",
   "pygments_lexer": "ipython3",
   "version": "3.7.3-final"
  },
  "orig_nbformat": 2,
  "kernelspec": {
   "name": "python37364bitvenvvenv51aea4b0cb3d41868630a6c811607fde",
   "display_name": "Python 3.7.3 64-bit ('venv': venv)"
  }
 },
 "nbformat": 4,
 "nbformat_minor": 2
}