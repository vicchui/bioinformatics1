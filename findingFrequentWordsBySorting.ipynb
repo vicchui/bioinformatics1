{
 "cells": [
  {
   "cell_type": "code",
   "execution_count": 26,
   "metadata": {
    "tags": []
   },
   "outputs": [
    {
     "output_type": "stream",
     "name": "stdout",
     "text": "orig index=[0, 2, 9, 4, 0, 0, 2, 10, 11, 14, 10, 10]\nsorted index=[0, 0, 0, 2, 2, 4, 9, 10, 10, 10, 11, 14]\nFound i=2, index[i]=0\nNumberToPattern: number=0\nFound i=9, index[i]=10\nNumberToPattern: number=10\nCount= [1, 2, 3, 1, 2, 1, 1, 1, 2, 3, 1, 1]\n['AA', 'GG']\n"
    }
   ],
   "source": [
    "import libfreq\n",
    "\n",
    "def FindingFrequentWordsBySorting(Text, k):\n",
    "    FrequentPattern = []\n",
    "    #initialize\n",
    "    index = []\n",
    "    count = []\n",
    "    count_max = 0\n",
    "    count_max_index = 0\n",
    "#create the patterns\n",
    "    for i in range(0, len(Text)-k+1):\n",
    "        pattern = Text[i:i+k]\n",
    "#create the index from pattern, set count = 1\n",
    "#sorting the index\n",
    "        index.append(libfreq.PatternToNumber(pattern))\n",
    "        count.append(1)\n",
    "    \n",
    "    print(\"orig index={}\".format(index))\n",
    "    index.sort()\n",
    "    print(\"sorted index={}\".format(index))\n",
    "# count + 1 if sorting index the same with previous\n",
    "    for i in range(0, len(Text)-k+1):\n",
    "\n",
    "        if index[i] == index[i-1]:\n",
    "            count[i] = count[i-1] + 1\n",
    "#            if count[i] > count_max:\n",
    " #               count_max = count[i]\n",
    "  #              count_max_index = i\n",
    "        count_max = max(count)\n",
    "    for i in range(0, len(Text)-k+1):\n",
    "        if count_max == count[i]:\n",
    "            print(\"Found i={}, index[i]={}\".format(i, index[i]))\n",
    "            FrequentPattern.append(libfreq.NumberToPattern(index[i], k))\n",
    "\n",
    "    print(\"Count= {}\".format(count))\n",
    "\n",
    "    \n",
    "# same index means with the same pattern\n",
    "# found out the max count is the most frequent pattern\n",
    "    \n",
    "    return FrequentPattern\n",
    "\n",
    "\n",
    "Text = \"AAGCAAAGGTGGG\"\n",
    "\n",
    "k = 2\n",
    "print(FindingFrequentWordsBySorting(Text, k))"
   ]
  }
 ],
 "metadata": {
  "language_info": {
   "codemirror_mode": {
    "name": "ipython",
    "version": 3
   },
   "file_extension": ".py",
   "mimetype": "text/x-python",
   "name": "python",
   "nbconvert_exporter": "python",
   "pygments_lexer": "ipython3",
   "version": "3.7.3-final"
  },
  "orig_nbformat": 2,
  "kernelspec": {
   "name": "python37364bitvenvvenv12fd54c1030f4ada83d5760cefaa9b67",
   "display_name": "Python 3.7.3 64-bit ('venv': venv)"
  }
 },
 "nbformat": 4,
 "nbformat_minor": 2
}