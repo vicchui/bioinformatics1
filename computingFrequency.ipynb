{
 "cells": [
  {
   "cell_type": "code",
   "execution_count": 106,
   "metadata": {},
   "outputs": [],
   "source": [
    "import io\n",
    "\n",
    "fd = open('dataset_2994_5.txt', 'r')\n",
    "t = fd.readlines()\n",
    "fd.close()\n",
    "Text = t[0].strip('\\n')\n",
    "#Text.strip('\\n')\n",
    "#print('1st arguments='+Text)\n",
    "k=5\n",
    "#k = int(t[1].strip('\\n'))\n",
    "#print('2nd arguments=',k)"
   ]
  },
  {
   "cell_type": "code",
   "execution_count": 4,
   "metadata": {},
   "outputs": [],
   "source": [
    "Text=\"ctgagtggatgacatcaagataggtcgttgtatctccttcctctcgtactctcatgaccacggaaagatgatcaagagaggatgatttcttggccatatcgcaatgaatacttgtgacttgtgcttccaattgacatcttcagcgccatattgcgctggccaaggtgacggagcgggattacgaaagcatgatcatggctgttgttctgtttatcttgttttgactgagacttgttaggatagacggtttttcatcactgactagccaaagccttactctgcctgacatcgaccgtaaattgataatgaatttacatgcttccgcgacgatttacctcttgatcatcgatccgattgaagatcttcaattgttaattctcttgcctcgactcatagccatgatgagctcttgatcatgtttccttaaccctctattttttacggaagaatgatcaagctgctgctcttgatcatcgtttcatcaatgatcaacgtaagcttctaagcatgatcaaggtgctcacacagtttatccacaacctgagtggatgacatcaagataggtcgttgtatctccttcctctcgtactctcatgaccacggaaagatgatcaagagaggatgatttcttggccatatcgcaatgaatacttgtgacttgtgcttccaattgacatcttcagcgccatattgcgctggccaaggtgacggagcgggattacgaaagcatgatcatggctgttgttctgtttatcttgttttgactgagacttgttaggatagacggtttttcatcactgactagccaaagccttactctgcctgacatcgaccgtaaattgataatgaatttacatgcttccgcgacgatttacctcttgatcatcgatccgattgaagatcttcaattgttaattctcttgcctcgactcatagccatgatgagctcttgatcatgtttccttaaccctctattttttacggaagaatgatcaagctgctgctcttgatcatcgtttc\"\n",
    "k = 3\n",
    "g_dict={\"a\":0, \"c\":1, \"g\":2, \"t\":3}\n",
    "def PatternToNumber(pattern):\n",
    "    num = 0\n",
    "    #print(pattern)\n",
    "    k = len(pattern)-1\n",
    "    for i in pattern:\n",
    "        num = num + g_dict[i]*pow(4,k)\n",
    "        k = k - 1\n",
    "    #print(num)\n",
    "    return num\n"
   ]
  },
  {
   "cell_type": "code",
   "execution_count": 5,
   "metadata": {},
   "outputs": [],
   "source": [
    "\n",
    "\n",
    "def ComputingFrequencies(Text, k):\n",
    "\n",
    "    #print ('Text is ' + Text)\n",
    "    # initialize frequencyArray\n",
    "    FrequencyArray = [0]*pow(4,k)\n",
    "    # compile patterns\n",
    "    stop = len(Text)-k + 1\n",
    "    for i in range(0, len(Text)-k+1):\n",
    "        p = Text[i:i+k]\n",
    "   \n",
    "        #print(p)\n",
    "    # transform pattern to index num\n",
    "        n = PatternToNumber(p)\n",
    "    # add count in frequencyArray\n",
    "        FrequencyArray[n] = FrequencyArray[n]+1\n",
    "    return FrequencyArray\n",
    "\n",
    "\n",
    "\n"
   ]
  },
  {
   "cell_type": "code",
   "execution_count": 6,
   "metadata": {},
   "outputs": [
    {
     "output_type": "stream",
     "name": "stdout",
     "text": "8 4 21 19 11 9 13 18 16 18 9 3 14 38 28 22 20 7 3 32 15 2 6 17 14 8 10 9 5 27 20 33 14 26 12 40 5 16 8 18 14 6 2 7 7 2 9 21 10 14 10 11 31 13 14 31 48 15 8 20 19 23 34 31"
    }
   ],
   "source": [
    "result = ComputingFrequencies(Text, k)\n",
    "for i in result:\n",
    "    print(i, sep=' ', end=' ')"
   ]
  },
  {
   "cell_type": "code",
   "execution_count": null,
   "metadata": {},
   "outputs": [],
   "source": []
  }
 ],
 "metadata": {
  "language_info": {
   "codemirror_mode": {
    "name": "ipython",
    "version": 3
   },
   "file_extension": ".py",
   "mimetype": "text/x-python",
   "name": "python",
   "nbconvert_exporter": "python",
   "pygments_lexer": "ipython3",
   "version": "3.7.3-final"
  },
  "orig_nbformat": 2,
  "kernelspec": {
   "name": "python37364bitvenvvenv12fd54c1030f4ada83d5760cefaa9b67",
   "display_name": "Python 3.7.3 64-bit ('venv': venv)"
  }
 },
 "nbformat": 4,
 "nbformat_minor": 2
}